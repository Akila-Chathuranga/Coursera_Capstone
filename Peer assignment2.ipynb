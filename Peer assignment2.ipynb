{
 "cells": [
  {
   "cell_type": "code",
   "execution_count": 1,
   "metadata": {},
   "outputs": [
    {
     "name": "stdout",
     "output_type": "stream",
     "text": [
      "count :  180 \n",
      "\n",
      "    Postcode       Borough                                      Neighbourhood\n",
      "0        M1A  Not assigned                                       Not assigned\n",
      "1        M1B   Scarborough                                     Rouge, Malvern\n",
      "2        M1C   Scarborough             Highland Creek, Rouge Hill, Port Union\n",
      "3        M1E   Scarborough                  Guildwood, Morningside, West Hill\n",
      "4        M1G   Scarborough                                             Woburn\n",
      "5        M1H   Scarborough                                          Cedarbrae\n",
      "6        M1J   Scarborough                                Scarborough Village\n",
      "7        M1K   Scarborough        East Birchmount Park, Ionview, Kennedy Park\n",
      "8        M1L   Scarborough                    Clairlea, Golden Mile, Oakridge\n",
      "9        M1M   Scarborough    Cliffcrest, Cliffside, Scarborough Village West\n",
      "10       M1N   Scarborough                        Birch Cliff, Cliffside West\n",
      "11       M1P   Scarborough  Dorset Park, Scarborough Town Centre, Wexford ...\n",
      "12       M1R   Scarborough                                  Maryvale, Wexford\n",
      "13       M1S   Scarborough                                          Agincourt\n",
      "14       M1T   Scarborough            Clarks Corners, Sullivan, Tam O'Shanter\n",
      "15       M1V   Scarborough  Agincourt North, L'Amoreaux East, Milliken, St...\n",
      "16       M1W   Scarborough                                    L'Amoreaux West\n",
      "17       M1X   Scarborough                                        Upper Rouge\n",
      "18       M1Y  Not assigned                                       Not assigned\n",
      "19       M1Z  Not assigned                                       Not assigned\n",
      "20       M2A  Not assigned                                       Not assigned\n",
      "21       M2B  Not assigned                                       Not assigned\n",
      "22       M2C  Not assigned                                       Not assigned\n",
      "23       M2E  Not assigned                                       Not assigned\n",
      "24       M2G  Not assigned                                       Not assigned\n",
      "25       M2H    North York                                  Hillcrest Village\n",
      "26       M2J    North York                       Fairview, Henry Farm, Oriole\n",
      "27       M2K    North York                                    Bayview Village\n",
      "28       M2L    North York                           Silver Hills, York Mills\n",
      "29       M2M    North York                            Newtonbrook, Willowdale\n",
      "..       ...           ...                                                ...\n",
      "150      M8N  Not assigned                                       Not assigned\n",
      "151      M8P  Not assigned                                       Not assigned\n",
      "152      M8R  Not assigned                                       Not assigned\n",
      "153      M8S  Not assigned                                       Not assigned\n",
      "154      M8T  Not assigned                                       Not assigned\n",
      "155      M8V     Etobicoke       Humber Bay Shores, Mimico South, New Toronto\n",
      "156      M8W     Etobicoke                             Alderwood, Long Branch\n",
      "157      M8X     Etobicoke      The Kingsway, Montgomery Road, Old Mill North\n",
      "158      M8Y     Etobicoke  Humber Bay, King's Mill Park, Kingsway Park So...\n",
      "159      M8Z     Etobicoke  Kingsway Park South West, Mimico NW, The Queen...\n",
      "160      M9A     Etobicoke                                   Islington Avenue\n",
      "161      M9B     Etobicoke  Cloverdale, Islington, Martin Grove, Princess ...\n",
      "162      M9C     Etobicoke  Bloordale Gardens, Eringate, Markland Wood, Ol...\n",
      "163      M9E  Not assigned                                       Not assigned\n",
      "164      M9G  Not assigned                                       Not assigned\n",
      "165      M9H  Not assigned                                       Not assigned\n",
      "166      M9J  Not assigned                                       Not assigned\n",
      "167      M9K  Not assigned                                       Not assigned\n",
      "168      M9L    North York                                      Humber Summit\n",
      "169      M9M    North York                                   Emery, Humberlea\n",
      "170      M9N          York                                             Weston\n",
      "171      M9P     Etobicoke                                          Westmount\n",
      "172      M9R     Etobicoke  Kingsview Village, Martin Grove Gardens, Richv...\n",
      "173      M9S  Not assigned                                       Not assigned\n",
      "174      M9T  Not assigned                                       Not assigned\n",
      "175      M9V     Etobicoke  Albion Gardens, Beaumond Heights, Humbergate, ...\n",
      "176      M9W     Etobicoke                                          Northwest\n",
      "177      M9X  Not assigned                                       Not assigned\n",
      "178      M9Y  Not assigned                                       Not assigned\n",
      "179      M9Z  Not assigned                                       Not assigned\n",
      "\n",
      "[180 rows x 3 columns]\n"
     ]
    }
   ],
   "source": [
    "import pandas as pd\n",
    "from urllib.request import urlopen\n",
    "from bs4 import BeautifulSoup\n",
    "from pandas import DataFrame as dataFrame\n",
    "\n",
    "html = urlopen(\"https://en.wikipedia.org/wiki/List_of_postal_codes_of_Canada:_M\")\n",
    "soup = BeautifulSoup(html, 'html.parser')\n",
    "table = soup.find('table')\n",
    "rows = table.find_all('tr')\n",
    "dm = []\n",
    "headers = [clname.get_text().strip() for clname in rows.pop(0).find_all('th')]\n",
    "\n",
    "for row in rows:\n",
    "    cells = row.find_all('td')\n",
    "    if(len(cells) > 2):\n",
    "        postcode = cells[0].get_text().strip()\n",
    "        borough = cells[1].get_text().strip()\n",
    "        neighbourhood = cells[2].get_text().strip()\n",
    "        neighbourhood = neighbourhood if neighbourhood != 'Not assigned' else borough\n",
    "        d = [postcode, borough, neighbourhood]\n",
    "        dm.append(d)\n",
    "        \n",
    "df = dataFrame(dm, columns=headers).groupby(['Postcode','Borough'])['Neighbourhood'].apply(', '.join)\n",
    "df_out = df.to_frame().reset_index()\n",
    "\n",
    "\n",
    "print('count : ',len(df_out),'\\n')\n",
    "print(df_out)"
   ]
  },
  {
   "cell_type": "code",
   "execution_count": 2,
   "metadata": {},
   "outputs": [
    {
     "data": {
      "text/plain": [
       "(180, 3)"
      ]
     },
     "execution_count": 2,
     "metadata": {},
     "output_type": "execute_result"
    }
   ],
   "source": [
    "df_out.shape"
   ]
  },
  {
   "cell_type": "code",
   "execution_count": null,
   "metadata": {},
   "outputs": [],
   "source": []
  },
  {
   "cell_type": "code",
   "execution_count": null,
   "metadata": {},
   "outputs": [],
   "source": []
  }
 ],
 "metadata": {
  "kernelspec": {
   "display_name": "Python 3.6",
   "language": "python",
   "name": "python3"
  },
  "language_info": {
   "codemirror_mode": {
    "name": "ipython",
    "version": 3
   },
   "file_extension": ".py",
   "mimetype": "text/x-python",
   "name": "python",
   "nbconvert_exporter": "python",
   "pygments_lexer": "ipython3",
   "version": "3.6.8"
  }
 },
 "nbformat": 4,
 "nbformat_minor": 1
}
